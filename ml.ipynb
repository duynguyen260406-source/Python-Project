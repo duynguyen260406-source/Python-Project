{
 "cells": [
  {
   "cell_type": "markdown",
   "id": "1cc64eb3",
   "metadata": {},
   "source": [
    "# **Predict Calorie Expenditure**"
   ]
  },
  {
   "cell_type": "code",
   "execution_count": null,
   "id": "36b78648",
   "metadata": {},
   "outputs": [],
   "source": []
  }
 ],
 "metadata": {
  "language_info": {
   "name": "python"
  }
 },
 "nbformat": 4,
 "nbformat_minor": 5
}
