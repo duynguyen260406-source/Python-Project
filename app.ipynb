{
 "cells": [
  {
   "cell_type": "markdown",
   "id": "4c16b23d",
   "metadata": {},
   "source": [
    "## **APPLICATIONS**"
   ]
  },
  {
   "cell_type": "markdown",
   "id": "45a584d5",
   "metadata": {},
   "source": [
    "### *Tải model*"
   ]
  },
  {
   "cell_type": "code",
   "execution_count": 2,
   "id": "87b346ce",
   "metadata": {},
   "outputs": [
    {
     "name": "stdout",
     "output_type": "stream",
     "text": [
      "Pipeline(steps=[('preprocessor',\n",
      "                 ColumnTransformer(transformers=[('num',\n",
      "                                                  Pipeline(steps=[('scaler',\n",
      "                                                                   StandardScaler())]),\n",
      "                                                  ['Age', 'Height', 'Weight',\n",
      "                                                   'Duration', 'Heart_Rate',\n",
      "                                                   'Body_Temp', 'BMI',\n",
      "                                                   'Duration_per_Heart',\n",
      "                                                   'Intensity',\n",
      "                                                   'Temp_per_Minute']),\n",
      "                                                 ('cat',\n",
      "                                                  Pipeline(steps=[('onehot',\n",
      "                                                                   OneHotEncoder(drop='first'))]),\n",
      "                                                  ['Age_Group', 'Sex'])])),\n",
      "                ('model', LinearRegression())])\n"
     ]
    }
   ],
   "source": [
    "import joblib \n",
    "MODEL_PATH = \"artifacts/best_calorie_model.pkl\"\n",
    "model = joblib.load(MODEL_PATH)\n",
    "print(model)"
   ]
  }
 ],
 "metadata": {
  "kernelspec": {
   "display_name": "Python 3",
   "language": "python",
   "name": "python3"
  },
  "language_info": {
   "codemirror_mode": {
    "name": "ipython",
    "version": 3
   },
   "file_extension": ".py",
   "mimetype": "text/x-python",
   "name": "python",
   "nbconvert_exporter": "python",
   "pygments_lexer": "ipython3",
   "version": "3.13.7"
  }
 },
 "nbformat": 4,
 "nbformat_minor": 5
}
